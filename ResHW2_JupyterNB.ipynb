{
 "cells": [
  {
   "cell_type": "code",
   "execution_count": null,
   "metadata": {},
   "outputs": [],
   "source": [
    "# Install Packages\n",
    "!pip install psycopg2\n",
    "!pip install pandas_profiling\n",
    "!pip install kaggle"
   ]
  },
  {
   "cell_type": "code",
   "execution_count": null,
   "metadata": {},
   "outputs": [],
   "source": [
    "# Import Packages\n",
    "import numpy as np\n",
    "import pandas as pd\n",
    "import psycopg2\n",
    "import kaggle\n",
    "import zipfile\n",
    "\n",
    "from pandas_profiling import ProfileReport\n",
    "from pandas_profiling.utils.cache import cache_file"
   ]
  },
  {
   "cell_type": "code",
   "execution_count": null,
   "metadata": {},
   "outputs": [],
   "source": [
    "# connect to Kaggle API\n",
    "from kaggle.api.kaggle_api_extended import KaggleApi\n",
    "api = KaggleApi()\n",
    "api.authenticate()"
   ]
  },
  {
   "cell_type": "code",
   "execution_count": null,
   "metadata": {},
   "outputs": [],
   "source": [
    "# Load Datasets into current dir.\n",
    "\n",
    "api.dataset_download_file('ashirwadsangwan/imdb-dataset',file_name='title.akas.tsv.gz',path='./')\n",
    "api.dataset_download_file('ashirwadsangwan/imdb-dataset',file_name='title.basics.tsv.gz',path='./')\n",
    "api.dataset_download_file('ashirwadsangwan/imdb-dataset',file_name='title.principals.tsv.gz',path='./')\n",
    "api.dataset_download_file('ashirwadsangwan/imdb-dataset',file_name='name.basics.tsv.gz',path='./')\n",
    "api.dataset_download_file('ashirwadsangwan/imdb-dataset',file_name='title.ratings.tsv.gz',path='./')"
   ]
  },
  {
   "cell_type": "code",
   "execution_count": null,
   "metadata": {},
   "outputs": [],
   "source": [
    "# Unzip Files\n",
    "\n",
    "with zipfile.ZipFile('./title.ratings.tsv.gz.zip', 'r') as zipref:\n",
    "     zipref.extractall('./')\n",
    "with zipfile.ZipFile('./title.basics.tsv.gz.zip', 'r') as zipref:\n",
    "    zipref.extractall('./') \n",
    "with zipfile.ZipFile('./title.akas.tsv.gz.zip', 'r') as zipref:\n",
    "    zipref.extractall('./')\n",
    "with zipfile.ZipFile('./title.principals.tsv.gz.zip', 'r') as zipref:\n",
    "    zipref.extractall('./')\n",
    "with zipfile.ZipFile('./name.basics.tsv.gz.zip', 'r') as zipref:\n",
    "    zipref.extractall('./')"
   ]
  },
  {
   "cell_type": "code",
   "execution_count": null,
   "metadata": {},
   "outputs": [],
   "source": [
    "# Create DataTable from Data title.ratings\n",
    "df_Ratings = pd.read_csv('./title.ratings.tsv.gz', sep='\\t', na_values='\\\\N', header=0, index_col=False)\n",
    "df_Ratings['tconst'].head()"
   ]
  },
  {
   "cell_type": "code",
   "execution_count": null,
   "metadata": {},
   "outputs": [],
   "source": [
    "# Analyze title.ratings Table\n",
    "ratingProfile = ProfileReport(df_Ratings, title=\"IMDB Ratings\", explorative=True)\n",
    "ratingProfile.to_file(\"./IMDB Ratings.html\")"
   ]
  },
  {
   "cell_type": "code",
   "execution_count": null,
   "metadata": {},
   "outputs": [],
   "source": [
    "# Write local title.ratings Table to title.ratings table in psql\n",
    "try:\n",
    "    connection = psycopg2.connect(user=\"postgres\",\n",
    "                                  password=\"***************\",\n",
    "                                  host=\"localhost\",\n",
    "                                  port=\"5432\",\n",
    "                                  database=\"ResSemHW2\")\n",
    "    \n",
    "    cursor = connection.cursor()\n",
    "    \n",
    "    # Creating a list of tupples from the dataframe values\n",
    "    tpls = [tuple(x) for x in df_Ratings.to_numpy()]\n",
    "    \n",
    "    # dataframe columns with Comma-separated\n",
    "    cols = ','.join(list(df_Ratings.columns))\n",
    "    \n",
    "    sql_insert_query = \"INSERT INTO public.titleRatings VALUES (%s,%s,%s)\" % (cols)\n",
    "\n",
    "    # executemany() to insert multiple rows\n",
    "    result = cursor.executemany(sql_insert_query,tpls)\n",
    "    connection.commit()\n",
    "    print(cursor.rowcount, \"Record inserted successfully into table\")\n",
    "\n",
    "except (Exception, psycopg2.Error) as error:\n",
    "    print(\"Failed inserting record into table {}\".format(error))\n",
    "\n",
    "finally:\n",
    "    # closing database connection.\n",
    "    if connection:\n",
    "        cursor.close()\n",
    "        connection.close()\n",
    "        print(\"PostgreSQL connection is closed\")"
   ]
  },
  {
   "cell_type": "code",
   "execution_count": null,
   "metadata": {},
   "outputs": [],
   "source": [
    "# Create DataTable from Data title.Basics\n",
    "col_list = [\"tconst\",\"titleType\",\"primaryTitle\",\"originalTitle\",\"isAdult\",\"startYear\",\"genres\" ]\n",
    "df_TitleBasics = pd.read_csv('./title.basics.tsv.gz', na_values='\\\\N', sep='\\t', header=0, \n",
    "                             dtype ={\"tconst\":str,\"titleType\":str,\"primaryTitle\":str,\"originalTitle\":str,\n",
    "                                     \"isAdult\":str,\"startYear\":str,\"genres\":str}, usecols = col_list)\n",
    "df_TitleBasics.head()"
   ]
  },
  {
   "cell_type": "code",
   "execution_count": null,
   "metadata": {},
   "outputs": [],
   "source": [
    "# Analyze title.Basics Table\n",
    "titleBasicProfile = ProfileReport(df_TitleBasics, title=\"IMDB Title Basics\", explorative=True)\n",
    "titleBasicProfile.to_file(\"./IMDB Title Basics.html\")"
   ]
  },
  {
   "cell_type": "code",
   "execution_count": null,
   "metadata": {},
   "outputs": [],
   "source": [
    "# Create DataTable from Data title.akas\n",
    "col_list = [\"titleId\",\"ordering\",\"title\",\"region\",\"language\",\"types\",\"attributes\",\"isOriginalTitle\"]\n",
    "df_TitleAkas = pd.read_csv('./title.akas.tsv.gz', na_values='\\\\N', sep='\\t', header=0,\n",
    "                           dtype ={\"titleId\":str,\"ordering\":str,\"title\":str,\"region\":str,\"language\":str,\n",
    "                                   \"types\":str,\"attributes\":str,\"isOriginalTitle\":str}, usecols=col_list)\n",
    "df_TitleAkas.head()"
   ]
  },
  {
   "cell_type": "code",
   "execution_count": null,
   "metadata": {},
   "outputs": [],
   "source": [
    "# Prepare for profiling\n",
    "df_TitleAkas = df_TitleAkas.sample(frac=0.25)\n",
    "df_TitleAkas = df_TitleAkas.fillna('null')"
   ]
  },
  {
   "cell_type": "code",
   "execution_count": null,
   "metadata": {},
   "outputs": [],
   "source": [
    "# Analyze title.akas Table\n",
    "titleAkasProfile = ProfileReport(df_TitleAkas.sample, title=\"IMDB Title Akas\", explorative=True)\n",
    "titleAkasProfile.to_file(\"./IMDB Title Akas.html\")"
   ]
  },
  {
   "cell_type": "code",
   "execution_count": null,
   "metadata": {},
   "outputs": [],
   "source": [
    "# Create DataTable from Data title.principals\n",
    "\n",
    "col_list = [\"tconst\",\"ordering\",\"nconst\",\"category\"]\n",
    "\n",
    "df_TitlePrincipals = pd.read_csv('./title.principals.tsv.gz', na_values='\\\\N', sep='\\t', header=0,\n",
    "                                 dtype ={\"tconst\":str,\"ordering\":str,\"nconst\":str,\"category\":str},\n",
    "                                 usecols=col_list)\n",
    "df_TitlePrincipals.head()"
   ]
  },
  {
   "cell_type": "code",
   "execution_count": null,
   "metadata": {},
   "outputs": [],
   "source": [
    "# Prepare Data for Profiling\n",
    "df_TitlePrincipals = df_TitlePrincipals.sample(n = 999999)\n",
    "df_TitlePrincipals = df_TitlePrincipals.fillna('')\n",
    "df_TitlePrincipals = df_TitlePrincipals.replace('\\[\"',\"\",regex=True)\n",
    "df_TitlePrincipals = df_TitlePrincipals.replace('\\\"]',\"\",regex=True)\n",
    "df_TitlePrincipals = df_TitlePrincipals.replace('\"',\"\",regex=True)\n",
    "df_TitlePrincipals"
   ]
  },
  {
   "cell_type": "code",
   "execution_count": null,
   "metadata": {},
   "outputs": [],
   "source": [
    "# Analyze title.principals Table\n",
    "titlePrincipalProfile = ProfileReport(df_TitlePrincipals, title=\"IMDB Title Principals\", explorative=True)\n",
    "titlePrincipalProfile.to_file(\"./IMDB Title Principals.html\")"
   ]
  },
  {
   "cell_type": "code",
   "execution_count": null,
   "metadata": {},
   "outputs": [],
   "source": [
    "# Create DataTable from Data name.basics\n",
    "\n",
    "col_list = [\"nconst\",\"primaryName\",\"birthYear\",\"deathYear\",\"primaryProfession\",\"knownForTitles\"]\n",
    "\n",
    "df_NameBasics = pd.read_csv('./name.basics.tsv.gz', na_values='\\\\N', sep='\\t', header=0,\n",
    "                            dtype ={\"nconst\":str,\"primaryName\":str,\"birthYear\":str,\"deathYear\":str,\n",
    "                                    \"primaryProfession\":str,\"knownForTitles\":str}, usecols=col_list)\n",
    "df_NameBasics.head()"
   ]
  },
  {
   "cell_type": "code",
   "execution_count": null,
   "metadata": {},
   "outputs": [],
   "source": [
    "# Preapare Data for Profiling\n",
    "df_Analyze = df_NameBasics.sample(n = 999999)\n",
    "df_Analyze = df_Analyze.fillna('null')"
   ]
  },
  {
   "cell_type": "code",
   "execution_count": null,
   "metadata": {},
   "outputs": [],
   "source": [
    "# Analyze name.basics Table\n",
    "nameBasicsProfile = ProfileReport(df_Analyze, title=\"IMDB Name Basics\",explorative=True)\n",
    "nameBasicsProfile.to_file(\"./IMDB Name Basics.html\")"
   ]
  },
  {
   "cell_type": "code",
   "execution_count": null,
   "metadata": {},
   "outputs": [],
   "source": [
    "# Write local title.basic Table to title.basics table in psql\n",
    "try:\n",
    "    connection = psycopg2.connect(user=\"postgres\",\n",
    "                                  password=\"***************\",\n",
    "                                  host=\"localhost\",\n",
    "                                  port=\"5432\",\n",
    "                                  database=\"ResSemHW2\")\n",
    "    \n",
    "    cursor = connection.cursor()\n",
    "    \n",
    "    # Creating a list of tupples from the dataframe values\n",
    "    tpls = [tuple(x) for x in df_TitleBasics.to_numpy()]\n",
    "    \n",
    "    # dataframe columns with Comma-separated\n",
    "    cols = ','.join(list(df_TitleBasics.columns))\n",
    "    print(cols)\n",
    "    sql_insert_query = \"\"\"INSERT INTO public.titleBasics (\"tconst\",\"titleType\",\"primaryTitle\",\n",
    "    \"originalTitle\",\"isAdult\",\"startYear\",\"genres\") VALUES (%s,%s,%s,%s,%s,%s,%s)\"\"\"\n",
    "\n",
    "    # executemany() to insert multiple rows\n",
    "    print('5')\n",
    "    result = cursor.executemany(sql_insert_query,tpls)\n",
    "    connection.commit()\n",
    "    print(cursor.rowcount, \"Record inserted successfully into table\")\n",
    "\n",
    "except (Exception, psycopg2.Error) as error:\n",
    "    print(\"Failed inserting record into table {}\".format(error))\n",
    "\n",
    "finally:\n",
    "    # closing database connection.\n",
    "    if connection:\n",
    "        cursor.close()\n",
    "        connection.close()\n",
    "        print(\"PostgreSQL connection is closed\")\n",
    "    "
   ]
  },
  {
   "cell_type": "code",
   "execution_count": null,
   "metadata": {},
   "outputs": [],
   "source": [
    "# Write local title.akas Table to title.akas table in psql\n",
    "try:\n",
    "    connection = psycopg2.connect(user=\"postgres\",\n",
    "                                  password=\"***************\",\n",
    "                                  host=\"localhost\",\n",
    "                                  port=\"5432\",\n",
    "                                  database=\"ResSemHW2\")\n",
    "    \n",
    "    cursor = connection.cursor()\n",
    "    \n",
    "    # Creating a list of tupples from the dataframe values\n",
    "    tpls = [tuple(x) for x in df_TitleAkas.to_numpy()]\n",
    "    \n",
    "    # dataframe columns with Comma-separated\n",
    "    cols = ','.join(list(df_TitleAkas.columns))\n",
    "    print(cols)\n",
    "    sql_insert_query1 = \"\"\"INSERT INTO public.\"titleAkas\" (\"titleId\",\"ordering\",\"title\",\"region\",\"language\",\"types\",\"attributes\",\"isOriginalTitle\") VALUES (%s,%s,%s,%s,%s,%s,%s,%s)\"\"\" #% (cols)\n",
    "\n",
    "    # executemany() to insert multiple rows\n",
    "    print('5')\n",
    "    result = cursor.executemany(sql_insert_query1,tpls)\n",
    "    connection.commit()\n",
    "    print(cursor.rowcount, \"Record inserted successfully into table\")\n",
    "\n",
    "except (Exception, psycopg2.Error) as error:\n",
    "    print(\"Failed inserting record into table {}\".format(error))\n",
    "\n",
    "finally:\n",
    "    # closing database connection.\n",
    "    if connection:\n",
    "        cursor.close()\n",
    "        connection.close()\n",
    "        print(\"PostgreSQL connection is closed\")\n",
    "    "
   ]
  },
  {
   "cell_type": "code",
   "execution_count": null,
   "metadata": {},
   "outputs": [],
   "source": [
    "# Write local title.principals Table to title.principals table in psql\n",
    "try:\n",
    "    connection = psycopg2.connect(user=\"postgres\",\n",
    "                                  password=\"***************\",\n",
    "                                  host=\"localhost\",\n",
    "                                  port=\"5432\",\n",
    "                                  database=\"ResSemHW2\")\n",
    "    \n",
    "    cursor = connection.cursor()\n",
    "    \n",
    "    # Creating a list of tupples from the dataframe values\n",
    "    tpls = [tuple(x) for x in df_TitlePrincipals.to_numpy()]\n",
    "    \n",
    "    # dataframe columns with Comma-separated\n",
    "    cols = ','.join(list(df_TitlePrincipals.columns))\n",
    "    sql_insert_query = \"\"\"INSERT INTO public.\"titlePrincipals\" (\"tconst\",\"ordering\",\"nconst\",\"category\",\"job\",\"characters\") VALUES (%s,%s,%s,%s,%s,%s)\"\"\" #% (cols)\n",
    "\n",
    "    # executemany() to insert multiple rows\n",
    "    print('5')\n",
    "    result = cursor.executemany(sql_insert_query,tpls)\n",
    "    connection.commit()\n",
    "    print(cursor.rowcount, \"Record inserted successfully into table\")\n",
    "\n",
    "except (Exception, psycopg2.Error) as error:\n",
    "    print(\"Failed inserting record into table {}\".format(error))\n",
    "\n",
    "finally:\n",
    "    # closing database connection.\n",
    "    if connection:\n",
    "        cursor.close()\n",
    "        connection.close()\n",
    "        print(\"PostgreSQL connection is closed\")\n",
    "    "
   ]
  },
  {
   "cell_type": "code",
   "execution_count": null,
   "metadata": {},
   "outputs": [],
   "source": [
    "# Write local name.basics Table to name.basics table in psql\n",
    "try:\n",
    "    connection = psycopg2.connect(user=\"postgres\",\n",
    "                                  password=\"***************\",\n",
    "                                  host=\"localhost\",\n",
    "                                  port=\"5432\",\n",
    "                                  database=\"ResSemHW2\")\n",
    "    \n",
    "    cursor = connection.cursor()\n",
    "    \n",
    "    # Creating a list of tupples from the dataframe values\n",
    "    tpls = [tuple(x) for x in df_NameBasics.to_numpy()]\n",
    "    \n",
    "    # dataframe columns with Comma-separated\n",
    "    cols = ','.join(list(df_NameBasics.columns))\n",
    "    print(cols)\n",
    "    sql_insert_query = \"\"\"INSERT INTO public.nameBasics (\"nconst\",\"primaryName\",\"birthYear\",\"deathYear\",\"primaryProfession\",\"knownForTitles\") VALUES (%s,%s,%s,%s,%s,%s)\"\"\" #% (cols)\n",
    "\n",
    "    # executemany() to insert multiple rows\n",
    "    print('5')\n",
    "    result = cursor.executemany(sql_insert_query,tpls)\n",
    "    connection.commit()\n",
    "    print(cursor.rowcount, \"Record inserted successfully into table\")\n",
    "\n",
    "except (Exception, psycopg2.Error) as error:\n",
    "    print(\"Failed inserting record into table {}\".format(error))\n",
    "\n",
    "finally:\n",
    "    # closing database connection.\n",
    "    if connection:\n",
    "        cursor.close()\n",
    "        connection.close()\n",
    "        print(\"PostgreSQL connection is closed\")\n",
    "    "
   ]
  }
 ],
 "metadata": {
  "kernelspec": {
   "display_name": "Python 3",
   "language": "python",
   "name": "python3"
  },
  "language_info": {
   "codemirror_mode": {
    "name": "ipython",
    "version": 3
   },
   "file_extension": ".py",
   "mimetype": "text/x-python",
   "name": "python",
   "nbconvert_exporter": "python",
   "pygments_lexer": "ipython3",
   "version": "3.8.5"
  }
 },
 "nbformat": 4,
 "nbformat_minor": 4
}
